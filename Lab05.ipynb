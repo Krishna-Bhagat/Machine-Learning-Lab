{
  "nbformat": 4,
  "nbformat_minor": 0,
  "metadata": {
    "colab": {
      "provenance": [],
      "authorship_tag": "ABX9TyNaDx2KlwLerM6K8H9PHUxr",
      "include_colab_link": true
    },
    "kernelspec": {
      "name": "python3",
      "display_name": "Python 3"
    },
    "language_info": {
      "name": "python"
    }
  },
  "cells": [
    {
      "cell_type": "markdown",
      "metadata": {
        "id": "view-in-github",
        "colab_type": "text"
      },
      "source": [
        "<a href=\"https://colab.research.google.com/github/Krishna-Bhagat/Machine-Learning-Lab/blob/main/Lab05.ipynb\" target=\"_parent\"><img src=\"https://colab.research.google.com/assets/colab-badge.svg\" alt=\"Open In Colab\"/></a>"
      ]
    },
    {
      "cell_type": "code",
      "execution_count": null,
      "metadata": {
        "id": "fxT7noCHmldE"
      },
      "outputs": [],
      "source": [
        "import pandas as pd\n",
        "import numpy as np\n",
        "import matplotlib.pyplot as plt\n",
        "from sklearn.model_selection import train_test_split\n",
        "from sklearn.preprocessing import OneHotEncoder\n",
        "from sklearn.linear_model import LinearRegression\n",
        "from sklearn.metrics import mean_squared_error, r2_score, mean_absolute_error"
      ]
    },
    {
      "cell_type": "code",
      "source": [
        "df = pd.read_csv('/content/drive/MyDrive/combined_dataset.csv')\n",
        "df"
      ],
      "metadata": {
        "id": "ajKr3HDV1HLY"
      },
      "execution_count": null,
      "outputs": []
    },
    {
      "cell_type": "code",
      "source": [
        "work_dataset = df['Numeric_Label']\n",
        "work_dataset"
      ],
      "metadata": {
        "id": "L119y-W31JMP"
      },
      "execution_count": null,
      "outputs": []
    },
    {
      "cell_type": "code",
      "source": [
        "X = df.drop(columns=['Numeric_Label'])  # Features (all columns except the target)\n",
        "y = df['Numeric_Label']  # Target (the column you're predicting)"
      ],
      "metadata": {
        "id": "O5mcIrB4aNSg"
      },
      "execution_count": null,
      "outputs": []
    },
    {
      "cell_type": "code",
      "source": [
        "encoder = OneHotEncoder(sparse=False)  # sparse=False to get a dense array\n",
        "\n",
        "# Apply the encoder to all columns (if all are categorical)\n",
        "X_encoded = encoder.fit_transform(X)\n",
        "\n",
        "# Step 4: Split the encoded data into training and test sets\n",
        "X_train, X_test, y_train, y_test = train_test_split(X_encoded, y, test_size=0.2, random_state=42)\n"
      ],
      "metadata": {
        "id": "l2iR2gnHaTE5"
      },
      "execution_count": null,
      "outputs": []
    },
    {
      "cell_type": "code",
      "source": [
        "from sklearn.linear_model import LinearRegression\n",
        "\n",
        "reg = LinearRegression().fit(X_train, y_train)   # Train the model with LogisticRegression for classification\n",
        "y_train_pred = reg.predict(X_train)   # Predict on the training data"
      ],
      "metadata": {
        "id": "c3CXoqKIawFy"
      },
      "execution_count": null,
      "outputs": []
    },
    {
      "cell_type": "code",
      "source": [
        "y_train_pred"
      ],
      "metadata": {
        "id": "HbXiPI5Va1WX"
      },
      "execution_count": null,
      "outputs": []
    },
    {
      "cell_type": "code",
      "source": [
        "# MSE (Mean Squared Error)\n",
        "mse_train = mean_squared_error(y_train, y_train_pred)\n",
        "\n",
        "# RMSE (Root Mean Squared Error)\n",
        "rmse_train = np.sqrt(mse_train)\n",
        "\n",
        "# MAPE (Mean Absolute Percentage Error)\n",
        "mape_train = np.mean(np.abs((y_train - y_train_pred) / y_train)) * 100\n",
        "\n",
        "# R2 Score\n",
        "r2_train = r2_score(y_train, y_train_pred)\n",
        "\n",
        "# Display the metrics\n",
        "print(f\"Training Data - MSE: {mse_train}, RMSE: {rmse_train}, MAPE: {mape_train}, R2: {r2_train}\")\n"
      ],
      "metadata": {
        "id": "zwbcjIlua4_q"
      },
      "execution_count": null,
      "outputs": []
    },
    {
      "cell_type": "code",
      "source": [
        "# Perform k-means clustering on your data. Please remove / ignore the target variable for\n",
        "# performing clustering. Sample code suggested below.\n",
        "from sklearn.cluster import KMeans\n",
        "\n",
        "k_means = KMeans(n_clusters=2, random_state=42, n_init=\"auto\")\n",
        "k_means.fit(X_train, y_train)\n",
        "\n",
        "k_means.cluster_centers_"
      ],
      "metadata": {
        "id": "StFkRtbba-Wb"
      },
      "execution_count": null,
      "outputs": []
    },
    {
      "cell_type": "code",
      "source": [
        "from sklearn.metrics import silhouette_score, calinski_harabasz_score, davies_bouldin_score\n",
        "\n",
        "SH = silhouette_score(X_train, k_means.labels_)\n",
        "CH = calinski_harabasz_score(X_train, k_means.labels_)\n",
        "DB = davies_bouldin_score(X_train, k_means.labels_)\n",
        "\n",
        "print(f\"SH = {SH}\")\n",
        "print(f\"CH = {CH}\")\n",
        "print(f\"DB = {DB}\")"
      ],
      "metadata": {
        "id": "u55CMID1bC8x"
      },
      "execution_count": null,
      "outputs": []
    },
    {
      "cell_type": "code",
      "source": [
        "# A6\n",
        "import matplotlib.pyplot as plt\n",
        "from sklearn.cluster import KMeans\n",
        "from sklearn.metrics import silhouette_score, calinski_harabasz_score, davies_bouldin_score\n",
        "\n",
        "k_values = range(2, 20)\n",
        "SH_scores = []\n",
        "CH_scores = []\n",
        "DB_scores = []\n",
        "\n",
        "for k in k_values:\n",
        "    kmeans = KMeans(n_clusters=k, n_init=\"auto\")\n",
        "    kmeans.fit(X_train)\n",
        "\n",
        "    SH = silhouette_score(X_train, kmeans.labels_)\n",
        "    CH = calinski_harabasz_score(X_train, kmeans.labels_)\n",
        "    DB = davies_bouldin_score(X_train, kmeans.labels_)\n",
        "\n",
        "    SH_scores.append(SH)\n",
        "    CH_scores.append(CH)\n",
        "    DB_scores.append(DB)\n",
        "\n",
        "plt.plot(k_values, SH_scores, label=\"SH\")\n",
        "plt.plot(k_values, CH_scores, label=\"CH\")\n",
        "plt.plot(k_values, DB_scores, label=\"DB\")\n",
        "plt.legend()\n",
        "\n",
        "plt.title(\"Optimal Cluster Count\")\n",
        "plt.xlabel(\"k values\")\n",
        "plt.ylabel(\"Scores\")\n",
        "plt.show()"
      ],
      "metadata": {
        "id": "1NY4FwgobGVW"
      },
      "execution_count": null,
      "outputs": []
    },
    {
      "cell_type": "code",
      "source": [
        "# A7\n",
        "import matplotlib.pyplot as plt\n",
        "\n",
        "distortions = []\n",
        "k_values = range(2, 20)\n",
        "\n",
        "for k in k_values:\n",
        "  kmeans = KMeans(n_clusters=k, n_init=\"auto\")\n",
        "  kmeans.fit(X_train, y_train)\n",
        "  distortions.append(kmeans.inertia_)\n",
        "\n",
        "plt.plot(distortions, k_values)\n",
        "plt.title(\"Elbow plot\")\n",
        "plt.xlabel(\"Distortions\")\n",
        "plt.ylabel(\"k values\")\n",
        "plt.show()"
      ],
      "metadata": {
        "id": "AknCbnNNbLzt"
      },
      "execution_count": null,
      "outputs": []
    },
    {
      "cell_type": "code",
      "source": [],
      "metadata": {
        "id": "l8palasVbPJn"
      },
      "execution_count": null,
      "outputs": []
    }
  ]
}