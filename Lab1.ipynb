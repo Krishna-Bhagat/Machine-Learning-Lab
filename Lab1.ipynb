{
  "nbformat": 4,
  "nbformat_minor": 0,
  "metadata": {
    "colab": {
      "provenance": [],
      "authorship_tag": "ABX9TyMWFTRbPtGlZAqX8k6y/HqU",
      "include_colab_link": true
    },
    "kernelspec": {
      "name": "python3",
      "display_name": "Python 3"
    },
    "language_info": {
      "name": "python"
    }
  },
  "cells": [
    {
      "cell_type": "markdown",
      "metadata": {
        "id": "view-in-github",
        "colab_type": "text"
      },
      "source": [
        "<a href=\"https://colab.research.google.com/github/Krishna-Bhagat/Machine-Learning-Lab/blob/main/Lab1.ipynb\" target=\"_parent\"><img src=\"https://colab.research.google.com/assets/colab-badge.svg\" alt=\"Open In Colab\"/></a>"
      ]
    },
    {
      "cell_type": "code",
      "execution_count": null,
      "metadata": {
        "colab": {
          "base_uri": "https://localhost:8080/"
        },
        "id": "J_0pVCd_VEAM",
        "outputId": "0b604639-4c61-447a-d020-d78f6dc662dc"
      },
      "outputs": [
        {
          "output_type": "stream",
          "name": "stdout",
          "text": [
            "Enter any string: arjun\n",
            "arjun\n",
            "Number of vowels :  2\n",
            "Number of consonants :  3\n"
          ]
        }
      ],
      "source": [
        "def count_vowels_constants(input_string):\n",
        "  vowel_count = 0\n",
        "  constant_count = 0\n",
        "  vowel_string = \"aeiouAEIOU\"\n",
        "  for ch in input_string:\n",
        "    if ch in vowel_string:\n",
        "      vowel_count += 1\n",
        "    else:\n",
        "      constant_count += 1\n",
        "  return vowel_count,constant_count\n",
        "\n",
        "\n",
        "input_string = input(\"Enter any string: \")\n",
        "print(input_string)\n",
        "vowel,consonant = count_vowels_constants(input_string)\n",
        "print(\"Number of vowels : \",vowel)\n",
        "print(\"Number of consonants : \",consonant)\n"
      ]
    },
    {
      "cell_type": "code",
      "source": [
        "import numpy as np\n",
        "\n",
        "def multiply_two_matrices(A,B):\n",
        "  if(len(A[0]) != len(B)):\n",
        "    print(\"Error! The given two matrices cannot be multiplied.\")\n",
        "    return None\n",
        "\n",
        "  result_row = len(A)\n",
        "  result_col = len(B[0])\n",
        "  column_A = len(B)\n",
        "\n",
        "  result = np.zeros((result_row,result_col))\n",
        "\n",
        "  for i in range(result_row):\n",
        "    for j in range(result_col):\n",
        "      for k in range(column_A):\n",
        "        result[i][j] += A[i][k] * B[k][j]\n",
        "  return result\n",
        "\n",
        "A = []\n",
        "B = []\n",
        "print(\"Input for Matrix 1:\")\n",
        "row1 = (int)(input(\"Enter the number of row for first matrix: \"))\n",
        "col1 = (int)(input(\"Enter the number of column for first matrix: \"))\n",
        "\n",
        "print(\"Enter the elements of each row in a single line(seperate each element by space):\")\n",
        "for _ in range(row1):\n",
        "  row = list(map(int,input().split()))\n",
        "  if(len(row) != col1):\n",
        "    raise ValueError(f\"Error! Number of elements should be {col1}, but is {len(row)}\")\n",
        "  A.append(row)\n",
        "\n",
        "print(\"Input for Matrix 2:\")\n",
        "row2 = (int)(input(\"Enter the number of row for second matrix: \"))\n",
        "col2 = (int)(input(\"Enter the number of column for second matrix: \"))\n",
        "\n",
        "print(\"Enter the elements of each row in a single line(seperate each element by space):\")\n",
        "for _ in range(row2):\n",
        "  row = list(map(int,input().split()))\n",
        "  if(len(row) != col2):\n",
        "    raise ValueError(f\"Error! Number of elements should be {col2}, but is {len(row)}\")\n",
        "  B.append(row)\n",
        "\n",
        "result = multiply_two_matrices(A,B)\n",
        "np.array(result)\n",
        "print(result)\n"
      ],
      "metadata": {
        "id": "lrmFDnw2YHum",
        "colab": {
          "base_uri": "https://localhost:8080/",
          "height": 297
        },
        "outputId": "f31130fc-9266-464f-c27c-b260a3727198"
      },
      "execution_count": null,
      "outputs": [
        {
          "name": "stdout",
          "output_type": "stream",
          "text": [
            "Input for Matrix 1:\n",
            "Enter the number of row for first matrix: 2\n",
            "Enter the number of column for first matrix: 3\n",
            "Enter the elements of each row in a single line(seperate each element by space):\n",
            "2 3 4\n"
          ]
        },
        {
          "output_type": "error",
          "ename": "TypeError",
          "evalue": "'list' object is not callable",
          "traceback": [
            "\u001b[0;31m---------------------------------------------------------------------------\u001b[0m",
            "\u001b[0;31mTypeError\u001b[0m                                 Traceback (most recent call last)",
            "\u001b[0;32m<ipython-input-22-787f2ba53a3b>\u001b[0m in \u001b[0;36m<cell line: 27>\u001b[0;34m()\u001b[0m\n\u001b[1;32m     26\u001b[0m \u001b[0mprint\u001b[0m\u001b[0;34m(\u001b[0m\u001b[0;34m\"Enter the elements of each row in a single line(seperate each element by space):\"\u001b[0m\u001b[0;34m)\u001b[0m\u001b[0;34m\u001b[0m\u001b[0;34m\u001b[0m\u001b[0m\n\u001b[1;32m     27\u001b[0m \u001b[0;32mfor\u001b[0m \u001b[0m_\u001b[0m \u001b[0;32min\u001b[0m \u001b[0mrange\u001b[0m\u001b[0;34m(\u001b[0m\u001b[0mrow1\u001b[0m\u001b[0;34m)\u001b[0m\u001b[0;34m:\u001b[0m\u001b[0;34m\u001b[0m\u001b[0;34m\u001b[0m\u001b[0m\n\u001b[0;32m---> 28\u001b[0;31m   \u001b[0mrow\u001b[0m \u001b[0;34m=\u001b[0m \u001b[0mlist\u001b[0m\u001b[0;34m(\u001b[0m\u001b[0mmap\u001b[0m\u001b[0;34m(\u001b[0m\u001b[0mint\u001b[0m\u001b[0;34m,\u001b[0m\u001b[0minput\u001b[0m\u001b[0;34m(\u001b[0m\u001b[0;34m)\u001b[0m\u001b[0;34m.\u001b[0m\u001b[0msplit\u001b[0m\u001b[0;34m(\u001b[0m\u001b[0;34m)\u001b[0m\u001b[0;34m)\u001b[0m\u001b[0;34m)\u001b[0m\u001b[0;34m\u001b[0m\u001b[0;34m\u001b[0m\u001b[0m\n\u001b[0m\u001b[1;32m     29\u001b[0m   \u001b[0;32mif\u001b[0m\u001b[0;34m(\u001b[0m\u001b[0mlen\u001b[0m\u001b[0;34m(\u001b[0m\u001b[0mrow\u001b[0m\u001b[0;34m)\u001b[0m \u001b[0;34m!=\u001b[0m \u001b[0mcol1\u001b[0m\u001b[0;34m)\u001b[0m\u001b[0;34m:\u001b[0m\u001b[0;34m\u001b[0m\u001b[0;34m\u001b[0m\u001b[0m\n\u001b[1;32m     30\u001b[0m     \u001b[0;32mraise\u001b[0m \u001b[0mValueError\u001b[0m\u001b[0;34m(\u001b[0m\u001b[0;34mf\"Error! Number of elements should be {col1}, but is {len(row)}\"\u001b[0m\u001b[0;34m)\u001b[0m\u001b[0;34m\u001b[0m\u001b[0;34m\u001b[0m\u001b[0m\n",
            "\u001b[0;31mTypeError\u001b[0m: 'list' object is not callable"
          ]
        }
      ]
    },
    {
      "cell_type": "code",
      "source": [
        "def common_element(A,B):\n",
        "  count =0\n",
        "  for i in A:\n",
        "    if( i in B):\n",
        "      count +=1\n",
        "  return count\n",
        "\n",
        "l1 = list(map(int,input(\"Enter the elements of list1(Seperated by space): \").split()))\n",
        "l2 = list(map(int,input(\"Enter the elements of list2(Seperated by space): \").split()))\n",
        "\n",
        "print(common_element(l1,l2))"
      ],
      "metadata": {
        "id": "yHIo5jz7qLfo"
      },
      "execution_count": null,
      "outputs": []
    },
    {
      "cell_type": "code",
      "source": [
        "def transpose_matrix(A):\n",
        "  result = []\n",
        "  if not A:\n",
        "    print(\"Error! Matrix is empty.\")\n",
        "    return None\n",
        "\n",
        "  row = len(A[0])\n",
        "  col = len(A)\n",
        "\n",
        "  result = [[0] * col for _ in range(row)]\n",
        "\n",
        "  for i in range(row):\n",
        "    for j in range(col):\n",
        "      result[i][j] = A[j][i]\n",
        "  return result\n",
        "\n",
        "def input_matrix():\n",
        "  row = int(input(\"Enter the number of rows: \"))\n",
        "  col = int(input(\"Enter the number of columns: \"))\n",
        "\n",
        "  A= []\n",
        "\n",
        "  print(\"Enter the elements of each row in a single line(seperate each element by space):\")\n",
        "  for _ in range(row):\n",
        "    row = list(map(int,input().split()))\n",
        "    if(len(row) != col):\n",
        "      return input_matrix()\n",
        "    A.append(row)\n",
        "  return A\n",
        "\n",
        "print(transpose_matrix(input_matrix()))"
      ],
      "metadata": {
        "id": "Y_NaJQu3rgHN"
      },
      "execution_count": null,
      "outputs": []
    },
    {
      "cell_type": "code",
      "source": [
        "def count_pairs(list1):\n",
        "    count = 0\n",
        "    seen = set()\n",
        "    for i in list1:\n",
        "        if (10 - i) in seen:\n",
        "            count += 1\n",
        "        seen.add(i)\n",
        "    return count\n",
        "\n",
        "list1 = list(map(int,input(\"Enter the elements of list 1(Seperated by space): \").split()))\n",
        "print(count_pairs(list1))"
      ],
      "metadata": {
        "colab": {
          "base_uri": "https://localhost:8080/",
          "height": 211
        },
        "id": "jWN451Y-0vpZ",
        "outputId": "4de77567-f3ae-45e3-95e0-8d7c1994cc1c"
      },
      "execution_count": null,
      "outputs": [
        {
          "name": "stdout",
          "output_type": "stream",
          "text": [
            "Enter the elements of list 1(Seperated by space): 3 4 5 6 7\n"
          ]
        },
        {
          "output_type": "error",
          "ename": "TypeError",
          "evalue": "'list' object is not callable",
          "traceback": [
            "\u001b[0;31m---------------------------------------------------------------------------\u001b[0m",
            "\u001b[0;31mTypeError\u001b[0m                                 Traceback (most recent call last)",
            "\u001b[0;32m<ipython-input-18-be4f7e2e57ff>\u001b[0m in \u001b[0;36m<cell line: 10>\u001b[0;34m()\u001b[0m\n\u001b[1;32m      8\u001b[0m     \u001b[0;32mreturn\u001b[0m \u001b[0mcount\u001b[0m\u001b[0;34m\u001b[0m\u001b[0;34m\u001b[0m\u001b[0m\n\u001b[1;32m      9\u001b[0m \u001b[0;34m\u001b[0m\u001b[0m\n\u001b[0;32m---> 10\u001b[0;31m \u001b[0mlist1\u001b[0m \u001b[0;34m=\u001b[0m \u001b[0mlist\u001b[0m\u001b[0;34m(\u001b[0m\u001b[0mmap\u001b[0m\u001b[0;34m(\u001b[0m\u001b[0mint\u001b[0m\u001b[0;34m,\u001b[0m\u001b[0minput\u001b[0m\u001b[0;34m(\u001b[0m\u001b[0;34m\"Enter the elements of list 1(Seperated by space): \"\u001b[0m\u001b[0;34m)\u001b[0m\u001b[0;34m.\u001b[0m\u001b[0msplit\u001b[0m\u001b[0;34m(\u001b[0m\u001b[0;34m)\u001b[0m\u001b[0;34m)\u001b[0m\u001b[0;34m)\u001b[0m\u001b[0;34m\u001b[0m\u001b[0;34m\u001b[0m\u001b[0m\n\u001b[0m\u001b[1;32m     11\u001b[0m \u001b[0mprint\u001b[0m\u001b[0;34m(\u001b[0m\u001b[0mcount_pairs\u001b[0m\u001b[0;34m(\u001b[0m\u001b[0mlist1\u001b[0m\u001b[0;34m)\u001b[0m\u001b[0;34m)\u001b[0m\u001b[0;34m\u001b[0m\u001b[0;34m\u001b[0m\u001b[0m\n",
            "\u001b[0;31mTypeError\u001b[0m: 'list' object is not callable"
          ]
        }
      ]
    }
  ]
}