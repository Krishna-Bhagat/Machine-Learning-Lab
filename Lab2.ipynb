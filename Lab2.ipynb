{
  "nbformat": 4,
  "nbformat_minor": 0,
  "metadata": {
    "colab": {
      "provenance": [],
      "authorship_tag": "ABX9TyNqn/panUDQZdtiMH8TXmbv",
      "include_colab_link": true
    },
    "kernelspec": {
      "name": "python3",
      "display_name": "Python 3"
    },
    "language_info": {
      "name": "python"
    }
  },
  "cells": [
    {
      "cell_type": "markdown",
      "metadata": {
        "id": "view-in-github",
        "colab_type": "text"
      },
      "source": [
        "<a href=\"https://colab.research.google.com/github/Krishna-Bhagat/Machine-Learning-Lab/blob/main/Lab2.ipynb\" target=\"_parent\"><img src=\"https://colab.research.google.com/assets/colab-badge.svg\" alt=\"Open In Colab\"/></a>"
      ]
    },
    {
      "cell_type": "code",
      "execution_count": 1,
      "metadata": {
        "id": "_okjTrIAEDoe"
      },
      "outputs": [],
      "source": [
        "import numpy as np\n",
        "import pandas as pd\n",
        "import statistics as st\n"
      ]
    },
    {
      "cell_type": "code",
      "source": [
        "def read(name_of_file, sheet_name,use_cols_parameter):\n",
        "  return pd.read_excel(name_of_file,index_col=0, usecols=use_cols_parameter,sheet_name=sheet_name)\n",
        ""
      ],
      "metadata": {
        "id": "KVVnprU_ORes"
      },
      "execution_count": 2,
      "outputs": []
    },
    {
      "cell_type": "code",
      "source": [
        "purchase_data = read(\"/content/Lab Session Data.xlsx\",\"Purchase data\",[0,1,2,3,4])\n",
        "col = purchase_data.columns\n",
        "# print(col)\n",
        "\n",
        "table1 = purchase_data.to_numpy();  #convert the dataframe to array\n",
        "# print(table1)\n",
        "# print(type(table1))\n",
        "\n",
        "A = purchase_data[[col[0],col[1],col[2]]].to_numpy\n",
        "# print(A)\n",
        "C = purchase_data[[col[3]]].to_numpy\n",
        "\n",
        "print(purchase_data)\n",
        "print(f\"Dimension of data: {table1.shape}\")\n"
      ],
      "metadata": {
        "colab": {
          "base_uri": "https://localhost:8080/"
        },
        "id": "TSYCgoz4P4YY",
        "outputId": "494098fd-878e-4398-99da-cd7332a304fa"
      },
      "execution_count": 12,
      "outputs": [
        {
          "output_type": "stream",
          "name": "stdout",
          "text": [
            "          Candies (#)  Mangoes (Kg)  Milk Packets (#)  Payment (Rs)\n",
            "Customer                                                           \n",
            "C_1                20             6                 2           386\n",
            "C_2                16             3                 6           289\n",
            "C_3                27             6                 2           393\n",
            "C_4                19             1                 2           110\n",
            "C_5                24             4                 2           280\n",
            "C_6                22             1                 5           167\n",
            "C_7                15             4                 2           271\n",
            "C_8                18             4                 2           274\n",
            "C_9                21             1                 4           148\n",
            "C_10               16             2                 4           198\n",
            "Dimension of data: (10, 4)\n"
          ]
        }
      ]
    }
  ]
}