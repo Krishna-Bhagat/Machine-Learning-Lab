{
  "nbformat": 4,
  "nbformat_minor": 0,
  "metadata": {
    "colab": {
      "provenance": [],
      "authorship_tag": "ABX9TyNeYZg/Wt4YJtB0j3ftNWKz",
      "include_colab_link": true
    },
    "kernelspec": {
      "name": "python3",
      "display_name": "Python 3"
    },
    "language_info": {
      "name": "python"
    }
  },
  "cells": [
    {
      "cell_type": "markdown",
      "metadata": {
        "id": "view-in-github",
        "colab_type": "text"
      },
      "source": [
        "<a href=\"https://colab.research.google.com/github/Krishna-Bhagat/Machine-Learning-Lab/blob/main/Lab04.ipynb\" target=\"_parent\"><img src=\"https://colab.research.google.com/assets/colab-badge.svg\" alt=\"Open In Colab\"/></a>"
      ]
    },
    {
      "cell_type": "code",
      "execution_count": null,
      "metadata": {
        "id": "RbOPvgG6dwLK"
      },
      "outputs": [],
      "source": [
        "import pandas as pd\n",
        "import numpy as np\n",
        "import matplotlib.pyplot as plt\n",
        "from sklearn.feature_extraction.text import TfidfVectorizer\n",
        "from sklearn.model_selection import train_test_split\n",
        "from sklearn.neighbors import KNeighborsClassifier\n",
        "from sklearn.metrics import accuracy_score\n",
        "from sklearn.metrics import confusion_matrix, classification_report, accuracy_score\n",
        "from sklearn.ensemble import RandomForestClassifier\n",
        "from sklearn.metrics import accuracy_score, precision_score, recall_score, f1_score, confusion_matrix\n",
        "from sklearn.metrics import mean_squared_error, mean_absolute_percentage_error, r2_score\n"
      ]
    },
    {
      "cell_type": "code",
      "source": [
        "df = pd.read_excel('/content/drive/MyDrive/labSession.xlsx')\n",
        "df = df.dropna(axis = 1)\n",
        "df"
      ],
      "metadata": {
        "id": "IB87r__jRU-D"
      },
      "execution_count": null,
      "outputs": []
    },
    {
      "cell_type": "code",
      "source": [
        "A = df.iloc[:, 1:-1].values\n",
        "B =df.iloc[:, -1].values\n",
        "\n",
        "A = np.array(A)\n",
        "B = np.array(B)\n",
        "\n",
        "print(\"Matrix A :\")\n",
        "print(A)\n",
        "print(\"Matrix B :\")\n",
        "print(B)\n",
        "\n",
        "# number of vectors\n",
        "noOfVector = A.shape[0]\n",
        "print('Number of vector is : ', noOfVector)\n",
        "\n",
        "\n",
        "# Dimensionality\n",
        "DimensionalityOfA = A.shape[1]\n",
        "DimensionalityOfB = A.shape[1]\n",
        "print(\"Dimensionality of A is\" , DimensionalityOfA)\n",
        "print(\"Dimensionality of B is\" , DimensionalityOfB)"
      ],
      "metadata": {
        "id": "7OLZEdwGRYQC"
      },
      "execution_count": null,
      "outputs": []
    },
    {
      "cell_type": "code",
      "source": [
        "rank = np.linalg.matrix_rank(A)\n",
        "print(\"Rank of matrix A is\", rank)"
      ],
      "metadata": {
        "id": "nEpbDFLQReRr"
      },
      "execution_count": null,
      "outputs": []
    },
    {
      "cell_type": "code",
      "source": [
        "pseudoInverse = np.linalg.pinv(A)\n",
        "priceEachProduct = pseudoInverse.dot(B)\n",
        "priceEachProduct = np.array(priceEachProduct)\n",
        "print(priceEachProduct)"
      ],
      "metadata": {
        "id": "tzVZzcL6RhZU"
      },
      "execution_count": null,
      "outputs": []
    },
    {
      "cell_type": "code",
      "source": [
        "# . Use the Pseudo-inverse to calculate the model vector X for predicting the cost of the products\n",
        "# available with the vendor.\n",
        "\n",
        "X = np.dot(pseudoInverse, B)\n",
        "print(X)"
      ],
      "metadata": {
        "id": "IvApwcj4RkKq"
      },
      "execution_count": null,
      "outputs": []
    },
    {
      "cell_type": "code",
      "source": [
        "df['Category'] = df['Payment (Rs)'] > 200\n",
        "df['Category'] = df['Category'].replace({True:'RICH', False: 'POOR'})\n",
        "\n",
        "features = df.iloc[:, 1:-2].values\n",
        "X_train, X_test, y_train, y_test = train_test_split(features, df['Category'], test_size=0.2, random_state=0)\n",
        "\n",
        "clf = RandomForestClassifier()\n",
        "\n",
        "clf.fit(X_train, y_train)\n",
        "\n",
        "y_pred = clf.predict(X_test)\n",
        "\n",
        "accuracy = accuracy_score(y_test, y_pred)\n",
        "print(\"Accuracy: \", accuracy)\n",
        "df"
      ],
      "metadata": {
        "id": "4w7rgewmRw7R"
      },
      "execution_count": null,
      "outputs": []
    },
    {
      "cell_type": "code",
      "source": [
        "from sklearn.preprocessing import LabelEncoder\n",
        "\n",
        "# Example conversion of string labels to numerical labels\n",
        "label_encoder = LabelEncoder()\n",
        "\n",
        "# Fit the encoder on the actual data and transform both y_test and y_pred\n",
        "y_test_encoded = label_encoder.fit_transform(y_test)\n",
        "y_pred_encoded = label_encoder.transform(y_pred)\n",
        "\n",
        "# Now calculate the MSE\n",
        "mse = mean_squared_error(y_test_encoded, y_pred_encoded)\n",
        "print(f\"Mean Squared Error (MSE): {mse}\")"
      ],
      "metadata": {
        "id": "uqPbsZj-R7B-"
      },
      "execution_count": null,
      "outputs": []
    },
    {
      "cell_type": "code",
      "source": [
        "# Calculate RMSE\n",
        "rmse = np.sqrt(mse)\n",
        "print(f\"Root Mean Squared Error (RMSE): {rmse}\")\n",
        "\n",
        "# Calculate MAPE\n",
        "mape = mean_absolute_percentage_error(y_test_encoded, y_pred_encoded)\n",
        "print(f\"Mean Absolute Percentage Error (MAPE): {mape * 100:.2f}%\")\n",
        "\n",
        "# Calculate R² score\n",
        "r2 = r2_score(y_test_encoded, y_pred_encoded)\n",
        "print(f\"R² score: {r2}\")"
      ],
      "metadata": {
        "id": "fO5FonfFSA__"
      },
      "execution_count": null,
      "outputs": []
    },
    {
      "cell_type": "code",
      "source": [
        "# Set random seed for reproducibility\n",
        "np.random.seed(42)\n",
        "\n",
        "# Generate 20 data points with 2 features (X & Y) between 1 and 10\n",
        "data_points = np.random.uniform(1, 10, size=(20, 2))\n",
        "\n",
        "# Assign classes based on some condition, here we will assign class1 (Red) if the sum of X and Y is greater than 10, else class0 (Blue)\n",
        "labels = np.array([1 if x[0] + x[1] > 10 else 0 for x in data_points])\n",
        "\n",
        "# Separate the points by class for plotting\n",
        "class0_points = data_points[labels == 0]\n",
        "class1_points = data_points[labels == 1]\n",
        "\n",
        "# Create scatter plot\n",
        "plt.figure(figsize=(8, 6))\n",
        "plt.scatter(class0_points[:, 0], class0_points[:, 1], color='blue', label='Class 0')\n",
        "plt.scatter(class1_points[:, 0], class1_points[:, 1], color='red', label='Class 1')\n",
        "plt.title('Scatter Plot of Training Data')\n",
        "plt.xlabel('Feature X')\n",
        "plt.ylabel('Feature Y')\n",
        "plt.legend()\n",
        "plt.grid(True)\n",
        "plt.show()"
      ],
      "metadata": {
        "id": "WwH_IfVuSD3p"
      },
      "execution_count": null,
      "outputs": []
    },
    {
      "cell_type": "code",
      "source": [
        "from sklearn.neighbors import KNeighborsClassifier\n",
        "from sklearn.preprocessing import StandardScaler\n",
        "\n",
        "# Example training data (replace these with your actual data)\n",
        "# Simulated data for demonstration purposes\n",
        "np.random.seed(0)  # For reproducibility\n",
        "data_array = np.random.rand(100, 2) * 10  # 100 points in 2D space\n",
        "actual_labels = np.random.choice(['Statement', 'Answer', 'Question'], 100)  # Random labels\n",
        "\n",
        "# Encode labels to numbers (for kNN classifier)\n",
        "label_map = {'Statement': 0, 'Answer': 1, 'Question': 2}\n",
        "encoded_labels = np.array([label_map[label] for label in actual_labels])\n",
        "\n",
        "# Train kNN classifier\n",
        "k = 3\n",
        "knn = KNeighborsClassifier(n_neighbors=k)\n",
        "knn.fit(data_array, encoded_labels)\n",
        "\n",
        "# Generate test set data\n",
        "x = np.arange(0, 10.1, 0.1)\n",
        "y = np.arange(0, 10.1, 0.1)\n",
        "X_test, Y_test = np.meshgrid(x, y)\n",
        "X_test = X_test.ravel()\n",
        "Y_test = Y_test.ravel()\n",
        "test_data = np.column_stack((X_test, Y_test))\n",
        "\n",
        "# Classify test set data\n",
        "predicted_labels = knn.predict(test_data)\n",
        "\n",
        "# Decode predicted labels back to original class names\n",
        "reverse_label_map = {0: 'Statement', 1: 'Answer', 2: 'Question'}\n",
        "decoded_predicted_labels = np.array([reverse_label_map[label] for label in predicted_labels])\n",
        "\n",
        "# Create scatter plot\n",
        "plt.figure(figsize=(10, 8))\n",
        "scatter = plt.scatter(X_test, Y_test, c=predicted_labels, cmap='coolwarm', s=5, alpha=0.7)\n",
        "plt.colorbar(scatter, label='Predicted Class')\n",
        "plt.xlabel('X-axis')\n",
        "plt.ylabel('Y-axis')\n",
        "plt.title('Scatter Plot of Test Data Colored by Predicted Class')\n",
        "plt.grid(True)\n",
        "plt.show()\n"
      ],
      "metadata": {
        "id": "rwFOawtrSMPP"
      },
      "execution_count": null,
      "outputs": []
    },
    {
      "cell_type": "code",
      "source": [
        "# Example training data (replace these with your actual data)\n",
        "np.random.seed(0)  # For reproducibility\n",
        "data_array = np.random.rand(100, 2) * 10  # 100 points in 2D space\n",
        "actual_labels = np.random.choice(['Statement', 'Answer', 'Question'], 100)  # Random labels\n",
        "\n",
        "# Encode labels to numbers\n",
        "label_map = {'Statement': 0, 'Answer': 1, 'Question': 2}\n",
        "encoded_labels = np.array([label_map[label] for label in actual_labels])\n",
        "\n",
        "# Generate test set data\n",
        "x = np.arange(0, 10.1, 0.1)\n",
        "y = np.arange(0, 10.1, 0.1)\n",
        "X_test, Y_test = np.meshgrid(x, y)\n",
        "X_test = X_test.ravel()\n",
        "Y_test = Y_test.ravel()\n",
        "test_data = np.column_stack((X_test, Y_test))\n",
        "\n",
        "# Values of k to test\n",
        "k_values = [1, 3, 5, 7, 11]\n",
        "\n",
        "# Plot for each value of k\n",
        "plt.figure(figsize=(15, 12))\n",
        "\n",
        "for i, k in enumerate(k_values):\n",
        "    # Train kNN classifier\n",
        "    knn = KNeighborsClassifier(n_neighbors=k)\n",
        "    knn.fit(data_array, encoded_labels)\n",
        "\n",
        "    # Classify test set data\n",
        "    predicted_labels = knn.predict(test_data)\n",
        "\n",
        "    # Create subplot\n",
        "    plt.subplot(2, 3, i + 1)\n",
        "    scatter = plt.scatter(X_test, Y_test, c=predicted_labels, cmap='coolwarm', s=5, alpha=0.7)\n",
        "    plt.title(f'k = {k}')\n",
        "    plt.xlabel('X-axis')\n",
        "    plt.ylabel('Y-axis')\n",
        "    plt.grid(True)\n",
        "\n",
        "plt.colorbar(scatter, ax=plt.gca(), label='Predicted Class')\n",
        "plt.tight_layout()\n",
        "plt.show()"
      ],
      "metadata": {
        "id": "6aUOtWTnSbge"
      },
      "execution_count": null,
      "outputs": []
    },
    {
      "cell_type": "code",
      "source": [],
      "metadata": {
        "id": "nz_I9PypSmY6"
      },
      "execution_count": null,
      "outputs": []
    }
  ]
}